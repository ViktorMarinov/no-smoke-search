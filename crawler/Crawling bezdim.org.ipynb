{
 "cells": [
  {
   "cell_type": "markdown",
   "metadata": {},
   "source": [
    "# Crawling [bezdim.org](https://bezdim.org/signali/reports)"
   ]
  },
  {
   "cell_type": "markdown",
   "metadata": {},
   "source": [
    "### Import Scrapy and install if missing"
   ]
  },
  {
   "cell_type": "code",
   "execution_count": 1,
   "metadata": {},
   "outputs": [],
   "source": [
    "try:\n",
    "    import scrapy\n",
    "except:\n",
    "    import sys\n",
    "    !conda install --yes --prefix {sys.prefix} -c conda-forge scrapy\n",
    "    import scrapy\n",
    "from scrapy.crawler import CrawlerProcess"
   ]
  },
  {
   "cell_type": "code",
   "execution_count": 2,
   "metadata": {},
   "outputs": [],
   "source": [
    "import json\n",
    "import codecs\n",
    "\n",
    "class JsonWriterPipeline(object):\n",
    "\n",
    "    def open_spider(self, spider):\n",
    "        self.file = codecs.open('reportresult.jl', 'w+', 'utf-16')\n",
    "\n",
    "    def close_spider(self, spider):\n",
    "        self.file.close()\n",
    "\n",
    "    def process_item(self, item, spider):\n",
    "        line = json.dumps(dict(item)) + \"\\n\"\n",
    "        self.file.write(line)\n",
    "        return item"
   ]
  },
  {
   "cell_type": "code",
   "execution_count": 3,
   "metadata": {},
   "outputs": [],
   "source": [
    "import logging\n",
    "\n",
    "class BezDimSpider(scrapy.Spider):\n",
    "    name = \"bezdim\"\n",
    "    start_urls = [\n",
    "        'https://bezdim.org/signali/reports'\n",
    "    ]\n",
    "    custom_settings = {\n",
    "        'LOG_LEVEL': logging.WARNING,\n",
    "        'ITEM_PIPELINES': {'__main__.JsonWriterPipeline': 1},\n",
    "        'FEED_FORMAT':'json',\n",
    "        'FEED_URI': 'reports-result.json'\n",
    "    }\n",
    "    \n",
    "    def parse(self, response):\n",
    "        for report in response.css('div.rb_report'):\n",
    "            title = report.css('a.r_title::text').extract_first().strip()\n",
    "            description = report.css('div.r_description::text').extract_first().strip()\n",
    "            address = report.css('p.bd_location::text').extract_first().strip()\n",
    "            \n",
    "            print(\"Title: \", title, \"Adress: \", address)\n",
    "            \n",
    "            yield {\n",
    "                'title': title,\n",
    "                'description': description,\n",
    "                'address': address\n",
    "            }"
   ]
  },
  {
   "cell_type": "code",
   "execution_count": 4,
   "metadata": {},
   "outputs": [
    {
     "name": "stderr",
     "output_type": "stream",
     "text": [
      "2019-01-24 20:54:44 [scrapy.utils.log] INFO: Scrapy 1.5.1 started (bot: scrapybot)\n",
      "2019-01-24 20:54:44 [scrapy.utils.log] INFO: Versions: lxml 4.2.5.0, libxml2 2.9.8, cssselect 1.0.3, parsel 1.5.1, w3lib 1.20.0, Twisted 18.9.0, Python 3.7.0 (default, Jun 28 2018, 07:39:16) - [Clang 4.0.1 (tags/RELEASE_401/final)], pyOpenSSL 18.0.0 (OpenSSL 1.0.2p  14 Aug 2018), cryptography 2.3.1, Platform Darwin-18.0.0-x86_64-i386-64bit\n",
      "2019-01-24 20:54:44 [scrapy.crawler] INFO: Overridden settings: {'FEED_FORMAT': 'json', 'FEED_URI': 'reports-result.json', 'LOG_LEVEL': 30, 'USER_AGENT': 'Mozilla/4.0 (compatible; MSIE 7.0; Windows NT 5.1)'}\n"
     ]
    },
    {
     "name": "stdout",
     "output_type": "stream",
     "text": [
      "Title:  Тютюнопушене в ресторант \"Вестител\", град Враца Adress:  град Враца, ул. \"Вестителя\" № 22\n",
      "Title:  Пушене в ресторант \"РЕАНА\", град Варна (м) Adress:  Гград Варна, ул. \"Братя Бъкстон\" № 35\n",
      "Title:  Пушене в ресторант \"Елеа\", град Пловдив (м) Adress:  град Пловдив, бул. Санкт Петербург 38, Лаута\n",
      "Title:  НЕ СПАЗВАНЕ ПРАВИЛАТА ЗА ПУШЕНЕ В ЗАВЕДЕНИЕ СМОЦИТЕ В СЕЛО СВЕТОВРАЧАНЕ, ГРАД СОФИЯ Adress:  село Световрачане, Столична община\n",
      "Title:  Пушене в заведение Гардън Бар, град Варна Adress:  град Варна,  ул.\"Отец Паисий\"№ 22\n",
      "Title:  Пушене в заведение Nebo, град София Adress:  град София, ул Шипка 34\n",
      "Title:  Нарушение на забраната за тютюнопушене в заведение \"Макаби\", град Асеновград Adress:  град Асеновград, бул. България 12\n",
      "Title:  Пушене в бистро \"Sweet cherry bar\", град Бургас (м) Adress:  град Бургас, Славейков бл. 86\n",
      "Title:  Пушене в кафе-аперитив и магазин \"РИКО-33 ЕООД\", село Ракита, област Плевен Adress:  село Ракита, област Плевен, ул. Георги Димитров № 7\n",
      "Title:  Пушене в механа \"Чичовци\", село Баня, община Разлог Adress:  село Баня, община Разлог\n",
      "Title:  Пушене в \"Quattro Piano Bar\", град Пловдив (м) Adress:  град Пловдив, пл. „Съединение“ 3\n",
      "Title:  Пушене в заведение \"Бакарди\", град Бургас Adress:  град Бургас,  ул. Александровска № 51\n",
      "Title:  Пушене в заведение, пореден път, град София Adress:  град София, ж.к Гео Милев, Зала Фестивална\n",
      "Title:  Нарушение на забрана за пушене, град Дупница Adress:  град Дупница, площад Свобода\n",
      "Title:  Tютюнопушене в заведение SASA в Парадайз мол, град София Adress:  град София, бул. Черни връх № 100\n",
      "Title:  Пушене в кафене Freestyle, град Русе Adress:  град Русе, ул. Александровска 97\n",
      "Title:  Нарушение на забрана за пушене в ресторант Samer, град София Adress:  град София, ул. Бяла черква, Южен парк\n",
      "Title:  Заведение за хранене, няма отделение за непушачи, град Пловдив Adress:  град Пловдив, ж.к. Тракия, до блок 214\n",
      "Title:  Пушене в заведение \"Верандата\", град Варна Adress:  град Варна, ул Крайбрежна алея, до плаж Рапонги\n",
      "Title:  Тютюнопушене в заведение за обществено хранене, град София Adress:  град София, ул. Георги Русев 2\n",
      "Title:  Пушене в заведение за хранене Cherry land, град Казанлък Adress:  град Казанлък, ж.к Изток 71В\n",
      "Title:  Пушене в бар \"Sense hotel rooftop\", град София (м) Adress:  град София, бул. \"Цар Освободител\" № 16\n",
      "Title:  Пушене в ресторант \"Синият лъв\", град София Adress:  град София, ул. Иван Вазов 8\n",
      "Title:  Пушене в \"Gossip bar MAX\", град Варна Adress:  град Варна, бул. “Христо Ботев” 18\n",
      "Title:  Тютюнопушене в заведение My Space, град Кърджали Adress:  град Кърджали, ул. Незнаен войн, до общината\n",
      "Title:  Пушене в дискотека \"Левел\", град Благоевград (м) Adress:  град Благоевград, Младежкия дом\n",
      "Title:  Пушене в хотел-ресторант  \"Троя\", град Свети Влас (м) Adress:  община Несебър, град Свети Влас, ул. Русалка 191\n",
      "Title:  Пушене в механа “Боляри”, град  Велико Търново Adress:  град Велико Търново, ул. Васил Левски  15\n",
      "Title:  Пушене в ресторант Нептун, град Видин Adress:  град Видин, ул. Дунавска 8\n",
      "Title:  Пуши се във всички заведения в град Карнобат Adress:  град Карнобат\n"
     ]
    }
   ],
   "source": [
    "process = CrawlerProcess({\n",
    "    'USER_AGENT': 'Mozilla/4.0 (compatible; MSIE 7.0; Windows NT 5.1)'\n",
    "})\n",
    "\n",
    "process.crawl(BezDimSpider)\n",
    "process.start()"
   ]
  },
  {
   "cell_type": "code",
   "execution_count": null,
   "metadata": {},
   "outputs": [],
   "source": []
  },
  {
   "cell_type": "code",
   "execution_count": null,
   "metadata": {},
   "outputs": [],
   "source": []
  }
 ],
 "metadata": {
  "kernelspec": {
   "display_name": "Python 3",
   "language": "python",
   "name": "python3"
  },
  "language_info": {
   "codemirror_mode": {
    "name": "ipython",
    "version": 3
   },
   "file_extension": ".py",
   "mimetype": "text/x-python",
   "name": "python",
   "nbconvert_exporter": "python",
   "pygments_lexer": "ipython3",
   "version": "3.7.0"
  }
 },
 "nbformat": 4,
 "nbformat_minor": 2
}
