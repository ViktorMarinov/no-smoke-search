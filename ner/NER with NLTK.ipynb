{
 "cells": [
  {
   "cell_type": "markdown",
   "metadata": {},
   "source": [
    "## Named Entity Recognition with NLTK and SpaCy"
   ]
  },
  {
   "cell_type": "code",
   "execution_count": null,
   "metadata": {},
   "outputs": [],
   "source": [
    "import nltk\n",
    "from nltk.tokenize import word_tokenize\n",
    "from nltk.tag import pos_tag"
   ]
  },
  {
   "cell_type": "markdown",
   "metadata": {},
   "source": [
    "Download resources with NLTK Downloader"
   ]
  },
  {
   "cell_type": "code",
   "execution_count": null,
   "metadata": {},
   "outputs": [],
   "source": [
    "nltk.download('punkt')\n",
    "nltk.download('averaged_perceptron_tagger')\n",
    "nltk.download('maxent_ne_chunker')\n",
    "nltk.download('words')"
   ]
  },
  {
   "cell_type": "code",
   "execution_count": null,
   "metadata": {},
   "outputs": [],
   "source": [
    "ex = 'European authorities fined Google a record $5.1 billion on Wednesday for abusing its power in the mobile phone market and ordered the company to alter its practices'\n",
    "ex = 'Infringement of the ban on smoking in the town of Asenovgrad, Bulgaria 12, Maccabi Restaurant. At any time of the day you enter the restaurant inside, there is a \"smoke curtain\". The restaurant does not have separate rooms talking about a large large room full of people, ashtrays are served in the form of water cups. I ask for your reaction in Asenovgrad this is not the first place where smoking is allowed on absolutely free consumption. I do not have photo or video material, but you can make sure.'\n",
    "ex_bg = 'Нарушение на забраната за тютюнопушене в град Асеновград,бул. България 12, заведение \"Макаби\". По всяко време на деня, когато влезете в заведението вътре, е \"димна завеса\". Заведението не разполага с отделни помещения говорим за едно общо голямо помещение пълно с хора, сервират се пепелници под формата на чашки с вода. Моля за реакция от ваша страна в Асеновград това не е първото заведение, в което тютюнопушенето е разрешено на абсолютно свободна консумация. Не разполагам със снимков или видео материал, но сами може да се уверите.'\n",
    "ex2 = 'Smoking in the Garden Bar Bar, Varna'\n",
    "ex_bg2 = 'Пушене в заведение Гардън Бар, град Варна'"
   ]
  },
  {
   "cell_type": "code",
   "execution_count": null,
   "metadata": {},
   "outputs": [],
   "source": [
    "def preprocess(sent):\n",
    "    sent = nltk.word_tokenize(sent)\n",
    "    sent = nltk.pos_tag(sent)\n",
    "    return sent"
   ]
  },
  {
   "cell_type": "code",
   "execution_count": null,
   "metadata": {},
   "outputs": [],
   "source": [
    "sent = preprocess(ex)"
   ]
  },
  {
   "cell_type": "code",
   "execution_count": null,
   "metadata": {},
   "outputs": [],
   "source": [
    "pattern = 'NP: {<DT>?<JJ>*<NN>}'\n",
    "\n",
    "cp = nltk.RegexpParser(pattern)\n",
    "cs = cp.parse(sent)"
   ]
  },
  {
   "cell_type": "code",
   "execution_count": null,
   "metadata": {},
   "outputs": [],
   "source": [
    "from nltk.chunk import conlltags2tree, tree2conlltags\n",
    "from pprint import pprint\n",
    "iob_tagged = tree2conlltags(cs)"
   ]
  },
  {
   "cell_type": "code",
   "execution_count": null,
   "metadata": {},
   "outputs": [],
   "source": [
    "from nltk import ne_chunk\n",
    "\n",
    "ne_tree = ne_chunk(pos_tag(word_tokenize(ex_bg)))\n",
    "print(ne_tree)"
   ]
  }
 ],
 "metadata": {
  "kernelspec": {
   "display_name": "Python 3",
   "language": "python",
   "name": "python3"
  },
  "language_info": {
   "codemirror_mode": {
    "name": "ipython",
    "version": 3
   },
   "file_extension": ".py",
   "mimetype": "text/x-python",
   "name": "python",
   "nbconvert_exporter": "python",
   "pygments_lexer": "ipython3",
   "version": "3.6.6"
  }
 },
 "nbformat": 4,
 "nbformat_minor": 2
}
