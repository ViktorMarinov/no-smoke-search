{
 "cells": [
  {
   "cell_type": "markdown",
   "metadata": {},
   "source": [
    "Import or install SpaCy"
   ]
  },
  {
   "cell_type": "code",
   "execution_count": 1,
   "metadata": {},
   "outputs": [],
   "source": [
    "try:\n",
    "    import spacy\n",
    "    import googletrans\n",
    "    import pandas as pd\n",
    "except:\n",
    "    import sys\n",
    "    !conda install --yes --prefix {sys.prefix} -c conda-forge spacy pandas\n",
    "#     !pip install git+https://github.com/BoseCorp/py-googletrans.git --upgrade\n",
    "    import spacy\n",
    "    \n",
    "from spacy import displacy\n",
    "\n",
    "try:\n",
    "    nlp = spacy.load('en')\n",
    "    nlp_bg = spacy.load('xx')\n",
    "except:\n",
    "    !python -m spacy download en\n",
    "    !python -m spacy download xx"
   ]
  },
  {
   "cell_type": "markdown",
   "metadata": {},
   "source": [
    "Other imports and helper functions"
   ]
  },
  {
   "cell_type": "code",
   "execution_count": 7,
   "metadata": {},
   "outputs": [],
   "source": [
    "from pprint import pprint\n",
    "from googletrans import Translator\n",
    "translator = Translator()\n",
    "\n",
    "def translate_bg_to_en(text):\n",
    "    return translator.translate(text, src='bg', dest='en').text\n",
    "\n",
    "def extract_entities(text):\n",
    "    doc = nlp(text)\n",
    "    return [(X.text, X.label_) for X in doc.ents]"
   ]
  },
  {
   "cell_type": "code",
   "execution_count": 3,
   "metadata": {},
   "outputs": [],
   "source": [
    "file_name = 'sample_10_pages.json'"
   ]
  },
  {
   "cell_type": "code",
   "execution_count": 4,
   "metadata": {},
   "outputs": [],
   "source": [
    "df_sample = pd.read_json(file_name)[:10]"
   ]
  },
  {
   "cell_type": "code",
   "execution_count": 17,
   "metadata": {},
   "outputs": [
    {
     "name": "stdout",
     "output_type": "stream",
     "text": [
      "9157 [('Kosharite', 'NORP'), ('Sofia', 'GPE'), ('Kosharite', 'NORP'), ('RZI Sofia', 'PERSON'), ('28.09.2016 at 10:20:04', 'TIME')]\n",
      "\n",
      "9152 [('Bricks', 'ORG'), ('Varna', 'PERSON'), ('Bar City:', 'GPE'), ('Slivnitsa', 'PERSON'), ('5', 'CARDINAL'), ('Tobacco', 'CARDINAL'), ('23.09.2016', 'CARDINAL'), ('21:20:05', 'DATE')]\n",
      "\n",
      "9153 [('Hashove', 'WORK_OF_ART'), ('Sofia', 'GPE'), ('The Hashove Restaurant', 'GPE'), ('45', 'CARDINAL'), ('Maria Luisa Street', 'FAC'), ('Thursdays, Fridays and Saturdays', 'DATE'), ('Merci', 'ORG'), ('RZI Sofia', 'PERSON'), ('24.09.2016', 'CARDINAL'), ('11:20:03', 'CARDINAL')]\n",
      "\n",
      "9154 [('Tiffany, Sofia', 'ORG'), ('Sofia', 'GPE'), ('Sofia', 'GPE'), ('Ivan Denkoglu', 'PERSON'), ('12', 'CARDINAL'), ('RZI Sofia', 'PERSON'), ('24.09.2016', 'CARDINAL'), ('11:20:03', 'CARDINAL')]\n",
      "\n",
      "9158 [('Jim Beim Club', 'ORG'), ('Sofia', 'GPE'), ('Jim Beam Club', 'ORG'), ('Fridays', 'DATE'), ('Saturdays', 'DATE'), ('28.09.2016', 'DATE'), ('10:20:05', 'DATE')]\n",
      "\n",
      "9162 [('PROVOKATOR', 'ORG'), ('Sofia', 'GPE'), ('PROVOKATOR', 'ORG'), ('RZI Sofia', 'PERSON'), ('30.09.2016', 'FAC'), ('10:20:07', 'TIME')]\n",
      "\n",
      "9129 [('summer', 'DATE'), ('the Riverside Restaurant', 'GPE'), ('Rousse', 'GPE'), ('today', 'DATE'), ('the Riverside Restaurant - Rousse on Batak Street 3', 'FAC'), ('Facebook', 'ORG')]\n",
      "\n",
      "9128 [('fourth', 'ORDINAL'), ('Varna', 'GPE'), ('Today', 'DATE'), ('Asparuhovo', 'GPE'), ('Varna', 'GPE'), ('five-year-old', 'DATE'), ('KOZ', 'ORG'), ('one', 'CARDINAL'), ('08.09.2016', 'CARDINAL'), ('22:20:04', 'DATE')]\n",
      "\n",
      "9096 [('Sofia', 'GPE'), ('Sofia', 'GPE'), ('3', 'CARDINAL'), ('Verila Str', 'PERSON'), ('RZI Sofia', 'PERSON'), ('01.07.2016', 'CARDINAL'), ('18:20:07', 'DATE')]\n",
      "\n",
      "9058 [('Kamino', 'PERSON'), ('Sofia', 'GPE'), ('Камино', 'NORP'), ('Пиано', 'ORG'), ('Sofia', 'GPE'), ('70', 'CARDINAL'), ('RZI Sofia', 'PERSON'), ('21.05.2016', 'CARDINAL'), ('16:20:07', 'TIME')]\n",
      "\n"
     ]
    }
   ],
   "source": [
    "def combine_text(report):\n",
    "    return report.title + \"; \" + report.description\n",
    "\n",
    "def get_ne_for_report(report):\n",
    "    text_part = combine_text(report)\n",
    "    en_text = translate_bg_to_en(text_part)\n",
    "    return  extract_entities(en_text)\n",
    "\n",
    "df_sample['entities'] = [\n",
    "    get_ne_for_report(row[1])\n",
    "    for row\n",
    "    in df_sample[['id', 'title', 'description']].iterrows()\n",
    "]\n",
    "\n",
    "for index, row in df_sample[['id', 'entities']].iterrows():\n",
    "    print(row.id, row.entities)\n",
    "    print()"
   ]
  }
 ],
 "metadata": {
  "kernelspec": {
   "display_name": "Python 3",
   "language": "python",
   "name": "python3"
  },
  "language_info": {
   "codemirror_mode": {
    "name": "ipython",
    "version": 3
   },
   "file_extension": ".py",
   "mimetype": "text/x-python",
   "name": "python",
   "nbconvert_exporter": "python",
   "pygments_lexer": "ipython3",
   "version": "3.6.6"
  }
 },
 "nbformat": 4,
 "nbformat_minor": 2
}
