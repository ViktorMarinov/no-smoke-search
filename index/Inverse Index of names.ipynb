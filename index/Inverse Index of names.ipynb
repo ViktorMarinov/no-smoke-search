{
 "cells": [
  {
   "cell_type": "code",
   "execution_count": 1,
   "metadata": {},
   "outputs": [],
   "source": [
    "from os.path import join\n",
    "import pandas as pd\n",
    "import nltk\n",
    "from nltk.tokenize import TweetTokenizer\n",
    "from operator import itemgetter\n",
    "from collections import defaultdict\n",
    "from functools import reduce\n",
    "import operator"
   ]
  },
  {
   "cell_type": "code",
   "execution_count": 2,
   "metadata": {},
   "outputs": [],
   "source": [
    "sample = pd.read_json(join('..', 'data', 'ner', 'sample_100_pages_names_tokens.json'))\n",
    "sample = sample.reset_index(drop=True)"
   ]
  },
  {
   "cell_type": "code",
   "execution_count": 3,
   "metadata": {},
   "outputs": [],
   "source": [
    "columns_for_index = ['matched_name', 'matched_title_str', 'matched_title_2_str', 'location']\n",
    "\n",
    "tokenizer = TweetTokenizer(preserve_case=False, strip_handles=True)\n",
    "\n",
    "sample[columns_for_index] = sample[columns_for_index].fillna(\"\")\n",
    "\n",
    "for col in columns_for_index:\n",
    "    sample[col + '_tokens'] = sample[col].apply(tokenizer.tokenize)\n",
    "    "
   ]
  },
  {
   "cell_type": "markdown",
   "metadata": {},
   "source": [
    "Combine tokens from index columns"
   ]
  },
  {
   "cell_type": "code",
   "execution_count": 4,
   "metadata": {},
   "outputs": [],
   "source": [
    "sample['tokens'] = (sample['matched_name_tokens'] +\n",
    "                sample['matched_title_str_tokens'] +\n",
    "                sample['matched_title_2_str_tokens'] +\n",
    "                sample['location_tokens'])"
   ]
  },
  {
   "cell_type": "code",
   "execution_count": 5,
   "metadata": {},
   "outputs": [
    {
     "data": {
      "text/html": [
       "<div>\n",
       "<style scoped>\n",
       "    .dataframe tbody tr th:only-of-type {\n",
       "        vertical-align: middle;\n",
       "    }\n",
       "\n",
       "    .dataframe tbody tr th {\n",
       "        vertical-align: top;\n",
       "    }\n",
       "\n",
       "    .dataframe thead th {\n",
       "        text-align: right;\n",
       "    }\n",
       "</style>\n",
       "<table border=\"1\" class=\"dataframe\">\n",
       "  <thead>\n",
       "    <tr style=\"text-align: right;\">\n",
       "      <th></th>\n",
       "      <th>id</th>\n",
       "      <th>tokens</th>\n",
       "    </tr>\n",
       "  </thead>\n",
       "  <tbody>\n",
       "    <tr>\n",
       "      <th>0</th>\n",
       "      <td>10244</td>\n",
       "      <td>[сладкарница, малинка, сладкарница, малинка, г...</td>\n",
       "    </tr>\n",
       "    <tr>\n",
       "      <th>1</th>\n",
       "      <td>10249</td>\n",
       "      <td>[град, софия, ,, ул, ., пирински, проход, 24, а]</td>\n",
       "    </tr>\n",
       "    <tr>\n",
       "      <th>2</th>\n",
       "      <td>10207</td>\n",
       "      <td>[заведение, златна, белка, заведение, златна, ...</td>\n",
       "    </tr>\n",
       "    <tr>\n",
       "      <th>3</th>\n",
       "      <td>9931</td>\n",
       "      <td>[заведение, маки, заведение, маки, град, сливе...</td>\n",
       "    </tr>\n",
       "    <tr>\n",
       "      <th>4</th>\n",
       "      <td>9848</td>\n",
       "      <td>[пицария, ветрило, пицария, ветрило, град, соф...</td>\n",
       "    </tr>\n",
       "    <tr>\n",
       "      <th>5</th>\n",
       "      <td>9847</td>\n",
       "      <td>[ресторант, хасиенда, ресторант, хасиенда, гра...</td>\n",
       "    </tr>\n",
       "    <tr>\n",
       "      <th>6</th>\n",
       "      <td>9852</td>\n",
       "      <td>[corner, bar, corner, bar, град, пловдив, ,, у...</td>\n",
       "    </tr>\n",
       "    <tr>\n",
       "      <th>7</th>\n",
       "      <td>9842</td>\n",
       "      <td>[град, софия, ,, ул, битоля, 4а]</td>\n",
       "    </tr>\n",
       "    <tr>\n",
       "      <th>8</th>\n",
       "      <td>9845</td>\n",
       "      <td>[град, софия, ,, пл, ., „, народно, събрание, ...</td>\n",
       "    </tr>\n",
       "    <tr>\n",
       "      <th>9</th>\n",
       "      <td>9844</td>\n",
       "      <td>[град, софия, ,, бул, ., иван, гешов, №, 15]</td>\n",
       "    </tr>\n",
       "    <tr>\n",
       "      <th>10</th>\n",
       "      <td>9851</td>\n",
       "      <td>[ресторант, 789, ресторант, 789, град, софия, ...</td>\n",
       "    </tr>\n",
       "    <tr>\n",
       "      <th>11</th>\n",
       "      <td>9853</td>\n",
       "      <td>[кафе, мая, кафе, мая, град, софия, ,, ул, ., ...</td>\n",
       "    </tr>\n",
       "    <tr>\n",
       "      <th>12</th>\n",
       "      <td>9857</td>\n",
       "      <td>[автобус, 1, автобус, 1, град, софия, ,, кокал...</td>\n",
       "    </tr>\n",
       "    <tr>\n",
       "      <th>13</th>\n",
       "      <td>9860</td>\n",
       "      <td>[град, добрич, ,, ж, ., к, ., балик, ,, ул, .,...</td>\n",
       "    </tr>\n",
       "    <tr>\n",
       "      <th>14</th>\n",
       "      <td>9932</td>\n",
       "      <td>[ресторант, sasa, paradise, mall, ресторант, s...</td>\n",
       "    </tr>\n",
       "    <tr>\n",
       "      <th>15</th>\n",
       "      <td>9866</td>\n",
       "      <td>[ресторант, козела, ресторант, козела, град, с...</td>\n",
       "    </tr>\n",
       "    <tr>\n",
       "      <th>16</th>\n",
       "      <td>9858</td>\n",
       "      <td>[автобус, 88, автобус, 88, град, софия]</td>\n",
       "    </tr>\n",
       "    <tr>\n",
       "      <th>17</th>\n",
       "      <td>9864</td>\n",
       "      <td>[сладкарница, романс, сладкарница, романс, гра...</td>\n",
       "    </tr>\n",
       "    <tr>\n",
       "      <th>18</th>\n",
       "      <td>9865</td>\n",
       "      <td>[град, софия, ,, младост, 3, ,, ул, ., \", свет...</td>\n",
       "    </tr>\n",
       "    <tr>\n",
       "      <th>19</th>\n",
       "      <td>9862</td>\n",
       "      <td>[ресторант, casa, felice, ресторант, casa, fel...</td>\n",
       "    </tr>\n",
       "  </tbody>\n",
       "</table>\n",
       "</div>"
      ],
      "text/plain": [
       "       id                                             tokens\n",
       "0   10244  [сладкарница, малинка, сладкарница, малинка, г...\n",
       "1   10249   [град, софия, ,, ул, ., пирински, проход, 24, а]\n",
       "2   10207  [заведение, златна, белка, заведение, златна, ...\n",
       "3    9931  [заведение, маки, заведение, маки, град, сливе...\n",
       "4    9848  [пицария, ветрило, пицария, ветрило, град, соф...\n",
       "5    9847  [ресторант, хасиенда, ресторант, хасиенда, гра...\n",
       "6    9852  [corner, bar, corner, bar, град, пловдив, ,, у...\n",
       "7    9842                   [град, софия, ,, ул, битоля, 4а]\n",
       "8    9845  [град, софия, ,, пл, ., „, народно, събрание, ...\n",
       "9    9844       [град, софия, ,, бул, ., иван, гешов, №, 15]\n",
       "10   9851  [ресторант, 789, ресторант, 789, град, софия, ...\n",
       "11   9853  [кафе, мая, кафе, мая, град, софия, ,, ул, ., ...\n",
       "12   9857  [автобус, 1, автобус, 1, град, софия, ,, кокал...\n",
       "13   9860  [град, добрич, ,, ж, ., к, ., балик, ,, ул, .,...\n",
       "14   9932  [ресторант, sasa, paradise, mall, ресторант, s...\n",
       "15   9866  [ресторант, козела, ресторант, козела, град, с...\n",
       "16   9858            [автобус, 88, автобус, 88, град, софия]\n",
       "17   9864  [сладкарница, романс, сладкарница, романс, гра...\n",
       "18   9865  [град, софия, ,, младост, 3, ,, ул, ., \", свет...\n",
       "19   9862  [ресторант, casa, felice, ресторант, casa, fel..."
      ]
     },
     "execution_count": 5,
     "metadata": {},
     "output_type": "execute_result"
    }
   ],
   "source": [
    "sample[['id', 'tokens']][:20]"
   ]
  },
  {
   "cell_type": "markdown",
   "metadata": {},
   "source": [
    "### Get (token, id) pairs"
   ]
  },
  {
   "cell_type": "code",
   "execution_count": 6,
   "metadata": {},
   "outputs": [
    {
     "data": {
      "text/plain": [
       "[('сладкарница', 10244),\n",
       " ('малинка', 10244),\n",
       " ('сладкарница', 10244),\n",
       " ('малинка', 10244),\n",
       " ('град', 10244),\n",
       " ('софия', 10244),\n",
       " (',', 10244),\n",
       " ('кв', 10244),\n",
       " ('.', 10244),\n",
       " ('младост', 10244),\n",
       " (',', 10244),\n",
       " ('сп', 10244),\n",
       " ('.', 10244),\n",
       " ('окръжна', 10244),\n",
       " ('болница', 10244),\n",
       " (',', 10244),\n",
       " ('до', 10244),\n",
       " ('детската', 10244),\n",
       " ('градина', 10244),\n",
       " ('град', 10249)]"
      ]
     },
     "execution_count": 6,
     "metadata": {},
     "output_type": "execute_result"
    }
   ],
   "source": [
    "def get_report(row):\n",
    "    return row[1]\n",
    "\n",
    "def get_token_report_id_pairs(reports):\n",
    "    pairs = []\n",
    "    for report in reports:\n",
    "        pairs += [(token, report.id) for token in report.tokens]\n",
    "            \n",
    "    return pairs\n",
    "    \n",
    "    \n",
    "token_id_pairs = get_token_report_id_pairs(map(get_report, sample[['id', 'tokens']].iterrows()))\n",
    "token_id_pairs[:20]"
   ]
  },
  {
   "cell_type": "code",
   "execution_count": 7,
   "metadata": {},
   "outputs": [],
   "source": [
    "from operator import itemgetter\n",
    "sorted_token_id = sorted(token_id_pairs, key=itemgetter(0))"
   ]
  },
  {
   "cell_type": "markdown",
   "metadata": {},
   "source": [
    "### Merge token occurences for each report"
   ]
  },
  {
   "cell_type": "code",
   "execution_count": 8,
   "metadata": {},
   "outputs": [],
   "source": [
    "def merge_token_in_report(sorted_token_id):\n",
    "    token_id_freq = []\n",
    "    for token, id in sorted_token_id:\n",
    "        if token_id_freq:\n",
    "            prev_tok, prev_id, prev_freq = token_id_freq[-1]\n",
    "            if prev_tok == token and prev_id == id:     \n",
    "                token_id_freq[-1] = (token, id, prev_freq+1)\n",
    "            else:\n",
    "                token_id_freq.append((token, id, 1))\n",
    "        else:\n",
    "            token_id_freq.append((token, id, 1))\n",
    "    return token_id_freq"
   ]
  },
  {
   "cell_type": "code",
   "execution_count": 9,
   "metadata": {},
   "outputs": [
    {
     "data": {
      "text/plain": [
       "[('участък', 8678, 1),\n",
       " ('учебни', 9890, 2),\n",
       " ('училище', 9349, 1),\n",
       " ('училище', 9692, 2),\n",
       " ('уши', 9595, 3),\n",
       " ('ф', 6884, 1),\n",
       " ('фaкултет', 7541, 1),\n",
       " ('фабрика', 8653, 1),\n",
       " ('фабрика', 6869, 1),\n",
       " ('фабриката', 7995, 2),\n",
       " ('фаворит', 6818, 2),\n",
       " ('фамилия', 9503, 3),\n",
       " ('фантазия', 8178, 2),\n",
       " ('фара', 10371, 1),\n",
       " ('фарът', 10371, 3),\n",
       " ('федора', 8904, 2),\n",
       " ('фейсис', 8807, 1),\n",
       " ('фейсис', 9066, 3),\n",
       " ('фейсис', 7707, 1),\n",
       " ('фейсис', 6795, 2)]"
      ]
     },
     "execution_count": 9,
     "metadata": {},
     "output_type": "execute_result"
    }
   ],
   "source": [
    "token_id_freq = merge_token_in_report(sorted_token_id)\n",
    "token_id_freq[30700:30720]"
   ]
  },
  {
   "cell_type": "markdown",
   "metadata": {},
   "source": [
    "### Create Dictionary and Postings"
   ]
  },
  {
   "cell_type": "code",
   "execution_count": 10,
   "metadata": {},
   "outputs": [],
   "source": [
    "from collections import defaultdict\n",
    "dictionary = defaultdict(lambda: (0, 0))\n",
    "postings = defaultdict(lambda: [])\n",
    "\n",
    "for token, id, freq in token_id_freq:\n",
    "    dictionary[token] = (dictionary[token][0] + 1, dictionary[token][1] + freq)\n",
    "\n",
    "#postings\n",
    "for token, id, freq in token_id_freq:\n",
    "    postings[token].append((id, freq))"
   ]
  },
  {
   "cell_type": "code",
   "execution_count": 11,
   "metadata": {},
   "outputs": [
    {
     "data": {
      "text/plain": [
       "(18, 48)"
      ]
     },
     "execution_count": 11,
     "metadata": {},
     "output_type": "execute_result"
    }
   ],
   "source": [
    "dictionary['pizza']"
   ]
  },
  {
   "cell_type": "code",
   "execution_count": 12,
   "metadata": {},
   "outputs": [
    {
     "data": {
      "text/plain": [
       "[(10036, 3),\n",
       " (9096, 3),\n",
       " (9236, 3),\n",
       " (9282, 3),\n",
       " (8435, 2),\n",
       " (8278, 3),\n",
       " (8388, 3),\n",
       " (8422, 3),\n",
       " (8328, 3),\n",
       " (8346, 2),\n",
       " (8501, 2),\n",
       " (8465, 3),\n",
       " (8662, 3),\n",
       " (10151, 3),\n",
       " (10355, 3),\n",
       " (7682, 3),\n",
       " (6896, 2),\n",
       " (9473, 1)]"
      ]
     },
     "execution_count": 12,
     "metadata": {},
     "output_type": "execute_result"
    }
   ],
   "source": [
    "postings['pizza']"
   ]
  },
  {
   "cell_type": "markdown",
   "metadata": {},
   "source": [
    "Sort the postings"
   ]
  },
  {
   "cell_type": "code",
   "execution_count": 13,
   "metadata": {},
   "outputs": [],
   "source": [
    "for key, values in postings.items():\n",
    "    postings[key] = sorted(values, key=itemgetter(0))"
   ]
  },
  {
   "cell_type": "markdown",
   "metadata": {},
   "source": [
    "### \"And\" query for the postings"
   ]
  },
  {
   "cell_type": "code",
   "execution_count": 14,
   "metadata": {},
   "outputs": [],
   "source": [
    "import numpy as np\n",
    "from functools import reduce\n",
    "\n",
    "def and_query(words):\n",
    "    \"\"\"\n",
    "    Finds all the documents that contain all the words with the frequescies summed\n",
    "    \"\"\"\n",
    "    occurences = [{id: freq for id, freq in postings[word]} for word in words]\n",
    "    common = reduce(\n",
    "        set.intersection,\n",
    "        [{id for id, freq in occ.items()} for occ in occurences])\n",
    "    return {id: sum([occ[id] for occ in occurences]) for id in common}"
   ]
  },
  {
   "cell_type": "code",
   "execution_count": 20,
   "metadata": {},
   "outputs": [
    {
     "data": {
      "text/plain": [
       "[(9282, 6),\n",
       " (8388, 6),\n",
       " (9096, 6),\n",
       " (8422, 5),\n",
       " (8465, 5),\n",
       " (10036, 5),\n",
       " (10355, 5),\n",
       " (8662, 5),\n",
       " (6896, 3),\n",
       " (8435, 3),\n",
       " (8346, 3)]"
      ]
     },
     "execution_count": 20,
     "metadata": {},
     "output_type": "execute_result"
    }
   ],
   "source": [
    "id_dict = and_query(['mr', 'pizza'])\n",
    "sorted(id_dict.items(), key=operator.itemgetter(1), reverse=True)"
   ]
  },
  {
   "cell_type": "code",
   "execution_count": 21,
   "metadata": {},
   "outputs": [],
   "source": [
    "def parse_query(query_string):\n",
    "    return tokenizer.tokenize(query_string)\n",
    "\n",
    "def ids_to_rows(ids):\n",
    "    return sample[sample.apply(lambda x: x.id in ids, axis=1)]\n",
    "\n",
    "def find_matches(words):\n",
    "    id_dict = and_query(words)\n",
    "    sorted_by_freq = sorted(id_dict.items(), key=operator.itemgetter(1), reverse=True)\n",
    "    ids = [id for id, freq in sorted_by_freq]\n",
    "    return ids_to_rows(ids)"
   ]
  },
  {
   "cell_type": "code",
   "execution_count": 24,
   "metadata": {},
   "outputs": [
    {
     "data": {
      "text/html": [
       "<div>\n",
       "<style scoped>\n",
       "    .dataframe tbody tr th:only-of-type {\n",
       "        vertical-align: middle;\n",
       "    }\n",
       "\n",
       "    .dataframe tbody tr th {\n",
       "        vertical-align: top;\n",
       "    }\n",
       "\n",
       "    .dataframe thead th {\n",
       "        text-align: right;\n",
       "    }\n",
       "</style>\n",
       "<table border=\"1\" class=\"dataframe\">\n",
       "  <thead>\n",
       "    <tr style=\"text-align: right;\">\n",
       "      <th></th>\n",
       "      <th>id</th>\n",
       "      <th>title</th>\n",
       "    </tr>\n",
       "  </thead>\n",
       "  <tbody>\n",
       "    <tr>\n",
       "      <th>58</th>\n",
       "      <td>10036</td>\n",
       "      <td>Пушене в ресторант \"Mr. Pizza\", град София (м)</td>\n",
       "    </tr>\n",
       "    <tr>\n",
       "      <th>283</th>\n",
       "      <td>9096</td>\n",
       "      <td>Пушене в ресторант  Mr Pizza, град София  (моб...</td>\n",
       "    </tr>\n",
       "    <tr>\n",
       "      <th>470</th>\n",
       "      <td>9282</td>\n",
       "      <td>Пушене в ресторант  Mr Pizza, град София  (моб...</td>\n",
       "    </tr>\n",
       "    <tr>\n",
       "      <th>711</th>\n",
       "      <td>8435</td>\n",
       "      <td>Пуши се в ресторант Mr. Pizza, град София</td>\n",
       "    </tr>\n",
       "    <tr>\n",
       "      <th>840</th>\n",
       "      <td>8388</td>\n",
       "      <td>Пушене в ресторант Mr Pizza, град София (мобил...</td>\n",
       "    </tr>\n",
       "    <tr>\n",
       "      <th>867</th>\n",
       "      <td>8422</td>\n",
       "      <td>Пушене в пицария Mr. Pizza, град София (мобиле...</td>\n",
       "    </tr>\n",
       "    <tr>\n",
       "      <th>894</th>\n",
       "      <td>8346</td>\n",
       "      <td>Пушене в ресторант Mr. Pizza, град София</td>\n",
       "    </tr>\n",
       "    <tr>\n",
       "      <th>938</th>\n",
       "      <td>8465</td>\n",
       "      <td>Пушене в ресторант Mr. Pizza, град София (моби...</td>\n",
       "    </tr>\n",
       "    <tr>\n",
       "      <th>1074</th>\n",
       "      <td>8662</td>\n",
       "      <td>Пушене в ресторант Mr. Pizza - Младост, град С...</td>\n",
       "    </tr>\n",
       "    <tr>\n",
       "      <th>1112</th>\n",
       "      <td>10355</td>\n",
       "      <td>Пушене в ресторант  \"Mr. Pizza\", град София  (м)</td>\n",
       "    </tr>\n",
       "    <tr>\n",
       "      <th>2020</th>\n",
       "      <td>6896</td>\n",
       "      <td>В пицария \"Mr. Pizza\", град София, на бул. Бъл...</td>\n",
       "    </tr>\n",
       "  </tbody>\n",
       "</table>\n",
       "</div>"
      ],
      "text/plain": [
       "         id                                              title\n",
       "58    10036     Пушене в ресторант \"Mr. Pizza\", град София (м)\n",
       "283    9096  Пушене в ресторант  Mr Pizza, град София  (моб...\n",
       "470    9282  Пушене в ресторант  Mr Pizza, град София  (моб...\n",
       "711    8435          Пуши се в ресторант Mr. Pizza, град София\n",
       "840    8388  Пушене в ресторант Mr Pizza, град София (мобил...\n",
       "867    8422  Пушене в пицария Mr. Pizza, град София (мобиле...\n",
       "894    8346           Пушене в ресторант Mr. Pizza, град София\n",
       "938    8465  Пушене в ресторант Mr. Pizza, град София (моби...\n",
       "1074   8662  Пушене в ресторант Mr. Pizza - Младост, град С...\n",
       "1112  10355   Пушене в ресторант  \"Mr. Pizza\", град София  (м)\n",
       "2020   6896  В пицария \"Mr. Pizza\", град София, на бул. Бъл..."
      ]
     },
     "execution_count": 24,
     "metadata": {},
     "output_type": "execute_result"
    }
   ],
   "source": [
    "words = parse_query('Mr Pizza')\n",
    "find_matches(words)[['id', 'title']]"
   ]
  }
 ],
 "metadata": {
  "kernelspec": {
   "display_name": "Python 3",
   "language": "python",
   "name": "python3"
  },
  "language_info": {
   "codemirror_mode": {
    "name": "ipython",
    "version": 3
   },
   "file_extension": ".py",
   "mimetype": "text/x-python",
   "name": "python",
   "nbconvert_exporter": "python",
   "pygments_lexer": "ipython3",
   "version": "3.6.8"
  }
 },
 "nbformat": 4,
 "nbformat_minor": 2
}
