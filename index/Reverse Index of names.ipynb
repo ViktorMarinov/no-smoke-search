{
 "cells": [
  {
   "cell_type": "code",
   "execution_count": 14,
   "metadata": {},
   "outputs": [],
   "source": [
    "import pandas as pd\n",
    "from nltk.tokenize import TweetTokenizer"
   ]
  },
  {
   "cell_type": "code",
   "execution_count": 3,
   "metadata": {},
   "outputs": [],
   "source": [
    "sample = pd.read_json('sample_100_pages_names.json')"
   ]
  },
  {
   "cell_type": "code",
   "execution_count": 9,
   "metadata": {},
   "outputs": [
    {
     "data": {
      "text/plain": [
       "Index(['categories', 'date', 'description', 'files', 'id', 'location', 'title',\n",
       "       'matched_name', 'matched_category', 'matched_city', 'matched_address',\n",
       "       'matched_title', 'matched_title_2'],\n",
       "      dtype='object')"
      ]
     },
     "execution_count": 9,
     "metadata": {},
     "output_type": "execute_result"
    }
   ],
   "source": [
    "sample.columns"
   ]
  },
  {
   "cell_type": "code",
   "execution_count": 46,
   "metadata": {},
   "outputs": [
    {
     "data": {
      "text/plain": [
       "0            [сладкарница, малинка, сладкарница, малинка]\n",
       "1                                                      []\n",
       "10      [заведение, златна, белка, заведение, златна, ...\n",
       "100                    [заведение, маки, заведение, маки]\n",
       "1000                 [пицария, ветрило, пицария, ветрило]\n",
       "1001           [ресторант, хасиенда, ресторант, хасиенда]\n",
       "1002                           [corner, bar, corner, bar]\n",
       "1003                                                   []\n",
       "1004                                                   []\n",
       "1005                                                   []\n",
       "1006                     [ресторант, 789, ресторант, 789]\n",
       "1007                               [кафе, мая, кафе, мая]\n",
       "1008                             [автобус, 1, автобус, 1]\n",
       "1009                                                   []\n",
       "101     [ресторант, sasa, paradise, mall, ресторант, s...\n",
       "1010               [ресторант, козела, ресторант, козела]\n",
       "1011                           [автобус, 88, автобус, 88]\n",
       "1012           [сладкарница, романс, сладкарница, романс]\n",
       "1013                                                   []\n",
       "1014    [ресторант, casa, felice, ресторант, casa, fel...\n",
       "1015               [ресторант, армира, ресторант, армира]\n",
       "1016               [ресторант, дивака, ресторант, дивака]\n",
       "1017           [ресторант, панорама, ресторант, панорама]\n",
       "1018    [механа, елена, се, пуши, механа, елена, се, п...\n",
       "1019                 [ресторант, елена, ресторант, елена]\n",
       "102                            [бар, cheers, бар, cheers]\n",
       "1020                                                   []\n",
       "1021    [la, pergola, ресторант, la, pergola, ресторан...\n",
       "1022    [даяна, 4, ресторант, даяна, 4, ресторант, дая...\n",
       "1023    [пиано, бар, пойзън, poison, пиано, бар, пойзъ...\n",
       "                              ...                        \n",
       "972                            [автобус, 60, автобус, 60]\n",
       "973                                  [ресторант, мистрал]\n",
       "974                                                    []\n",
       "975                                                    []\n",
       "976     [заведение, bar, &, dinner, glory, заведение, ...\n",
       "977                            [автобус, 60, автобус, 60]\n",
       "978                                                    []\n",
       "979                            [автобус, 60, автобус, 60]\n",
       "98      [заведение, марайа, класик, заведение, марайа,...\n",
       "980                                                    []\n",
       "981     [ресторант, капитан, кук, ресторант, капитан, ...\n",
       "982     [ресторант, капитан, кук, ресторант, капитан, ...\n",
       "983                                                    []\n",
       "984                                                    []\n",
       "985     [ресторант, капитан, кук, ресторант, капитан, ...\n",
       "986              [закрито, заведение, закрито, заведение]\n",
       "987                      [заведение, рай, заведение, рай]\n",
       "988                  [заведение, плаза, заведение, плаза]\n",
       "989                                                    []\n",
       "99                                                     []\n",
       "990                                                    []\n",
       "991                                                    []\n",
       "992                                                    []\n",
       "993        [ресторант, гамбринусъ, ресторант, гамбринусъ]\n",
       "994     [ресторант, la, cattedrale, ресторант, la, cat...\n",
       "995                                                    []\n",
       "996                                                    []\n",
       "997     [бар, и, грил, ла, кубанита, бар, и, грил, ла,...\n",
       "998                [заведение, elidis, заведение, elidis]\n",
       "999                            [кариби, бар, кариби, бар]\n",
       "Name: tokens, Length: 3000, dtype: object"
      ]
     },
     "execution_count": 46,
     "metadata": {},
     "output_type": "execute_result"
    }
   ],
   "source": [
    "columns_for_index = ['location', 'matched_name', 'matched_city', 'matched_address',\n",
    "       'matched_title', 'matched_title_2']\n",
    "\n",
    "tokenizer = TweetTokenizer(preserve_case=False,strip_handles=True)\n",
    "\n",
    "def tokenize(text):\n",
    "    return tokenizer.tokenize(text)\n",
    "    \n",
    "\n",
    "index_sample = sample[columns_for_index].fillna(\"\")\n",
    "\n",
    "for col in columns_for_index:\n",
    "    index_sample[col] = index_sample[col].apply(tokenize)\n",
    "    \n",
    "index_sample['tokens'] = index_sample['matched_name'] + index_sample['matched_title'] + index_sample['matched_title_2']\n",
    "index_sample['tokens']"
   ]
  }
 ],
 "metadata": {
  "kernelspec": {
   "display_name": "Python 3",
   "language": "python",
   "name": "python3"
  },
  "language_info": {
   "codemirror_mode": {
    "name": "ipython",
    "version": 3
   },
   "file_extension": ".py",
   "mimetype": "text/x-python",
   "name": "python",
   "nbconvert_exporter": "python",
   "pygments_lexer": "ipython3",
   "version": "3.6.6"
  }
 },
 "nbformat": 4,
 "nbformat_minor": 2
}
