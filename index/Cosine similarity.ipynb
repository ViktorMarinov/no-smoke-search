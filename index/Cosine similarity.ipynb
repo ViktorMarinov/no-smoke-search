{
 "cells": [
  {
   "cell_type": "code",
   "execution_count": 1,
   "metadata": {},
   "outputs": [],
   "source": [
    "import pandas as pd\n",
    "import nltk\n",
    "from nltk.tokenize import TweetTokenizer\n",
    "from os.path import join"
   ]
  },
  {
   "cell_type": "markdown",
   "metadata": {},
   "source": [
    "### Data import"
   ]
  },
  {
   "cell_type": "code",
   "execution_count": 2,
   "metadata": {},
   "outputs": [],
   "source": [
    "sample = pd.read_json(join('..', 'data', 'ner', 'sample_100_pages_names_tokens.json'))"
   ]
  },
  {
   "cell_type": "code",
   "execution_count": 3,
   "metadata": {},
   "outputs": [],
   "source": [
    "sample.reset_index(drop=True, inplace=True)"
   ]
  },
  {
   "cell_type": "code",
   "execution_count": 4,
   "metadata": {},
   "outputs": [
    {
     "data": {
      "text/plain": [
       "Index(['categories', 'date', 'description', 'files', 'id', 'location', 'title',\n",
       "       'matched_name', 'matched_category', 'matched_city', 'matched_address',\n",
       "       'matched_title', 'matched_title_2', 'matched_title_str',\n",
       "       'matched_title_2_str'],\n",
       "      dtype='object')"
      ]
     },
     "execution_count": 4,
     "metadata": {},
     "output_type": "execute_result"
    }
   ],
   "source": [
    "sample.columns"
   ]
  },
  {
   "cell_type": "markdown",
   "metadata": {},
   "source": [
    "### Stop words"
   ]
  },
  {
   "cell_type": "code",
   "execution_count": 5,
   "metadata": {},
   "outputs": [],
   "source": [
    "stopwords_sample = pd.read_json(join('..', 'data', 'index', 'stopwords-bg.json'))[259:]"
   ]
  },
  {
   "cell_type": "code",
   "execution_count": 6,
   "metadata": {},
   "outputs": [],
   "source": [
    "short_stop_word = stopwords_sample[stopwords_sample[0].apply(lambda x: len(x) <= 3)][0]"
   ]
  },
  {
   "cell_type": "markdown",
   "metadata": {},
   "source": [
    "### Tokenize search columns"
   ]
  },
  {
   "cell_type": "code",
   "execution_count": 7,
   "metadata": {},
   "outputs": [],
   "source": [
    "tokenizer = TweetTokenizer(preserve_case=False, strip_handles=True)"
   ]
  },
  {
   "cell_type": "code",
   "execution_count": 8,
   "metadata": {},
   "outputs": [],
   "source": [
    "columns_for_index = ['matched_name', 'matched_title_str', 'matched_title_2_str', 'location']\n",
    "\n",
    "\n",
    "\n",
    "sample[columns_for_index] = sample[columns_for_index].fillna(\"\")\n",
    "\n",
    "for col in columns_for_index:\n",
    "    sample[col + '_tokens'] = sample[col].apply(tokenizer.tokenize)\n",
    "\n",
    "sample['tokens'] = (sample['matched_name_tokens'] +\n",
    "                sample['matched_title_str_tokens'] +\n",
    "                sample['matched_title_2_str_tokens'] +\n",
    "                sample['location_tokens'])"
   ]
  },
  {
   "cell_type": "markdown",
   "metadata": {},
   "source": [
    "### TF-IDF"
   ]
  },
  {
   "cell_type": "code",
   "execution_count": 9,
   "metadata": {},
   "outputs": [],
   "source": [
    "from sklearn.feature_extraction.text import TfidfVectorizer"
   ]
  },
  {
   "cell_type": "code",
   "execution_count": 10,
   "metadata": {},
   "outputs": [],
   "source": [
    "sample['search_tokens_text'] = sample['tokens'].apply(lambda x: ' '.join(x))"
   ]
  },
  {
   "cell_type": "code",
   "execution_count": 11,
   "metadata": {},
   "outputs": [
    {
     "data": {
      "text/plain": [
       "<3000x3280 sparse matrix of type '<class 'numpy.float64'>'\n",
       "\twith 23153 stored elements in Compressed Sparse Row format>"
      ]
     },
     "execution_count": 11,
     "metadata": {},
     "output_type": "execute_result"
    }
   ],
   "source": [
    "tfidf_vectorizer = TfidfVectorizer(stop_words=short_stop_word.tolist())\n",
    "tfidf_vectorizer.fit_transform(sample['search_tokens_text'])"
   ]
  },
  {
   "cell_type": "markdown",
   "metadata": {},
   "source": [
    "### Cosine similarity on corpus"
   ]
  },
  {
   "cell_type": "code",
   "execution_count": 12,
   "metadata": {},
   "outputs": [],
   "source": [
    "from sklearn.metrics.pairwise import cosine_similarity"
   ]
  },
  {
   "cell_type": "code",
   "execution_count": 13,
   "metadata": {},
   "outputs": [],
   "source": [
    "train_corpus = tfidf_vectorizer.transform(sample['search_tokens_text'])"
   ]
  },
  {
   "cell_type": "markdown",
   "metadata": {},
   "source": [
    "Look for similarity betweet each document"
   ]
  },
  {
   "cell_type": "code",
   "execution_count": 14,
   "metadata": {},
   "outputs": [],
   "source": [
    "duplicates = cosine_similarity(train_corpus, train_corpus)"
   ]
  },
  {
   "cell_type": "code",
   "execution_count": 15,
   "metadata": {},
   "outputs": [
    {
     "data": {
      "text/plain": [
       "array([[1.        , 0.01394738, 0.00175835, ..., 0.00559053, 0.00738054,\n",
       "        0.03803982],\n",
       "       [0.01394738, 1.        , 0.00453168, ..., 0.02399727, 0.01902139,\n",
       "        0.00507922],\n",
       "       [0.00175835, 0.00453168, 1.        , ..., 0.00181643, 0.11174247,\n",
       "        0.01313839],\n",
       "       ...,\n",
       "       [0.00559053, 0.02399727, 0.00181643, ..., 1.        , 0.00762435,\n",
       "        0.06245791],\n",
       "       [0.00738054, 0.01902139, 0.11174247, ..., 0.00762435, 1.        ,\n",
       "        0.0167978 ],\n",
       "       [0.03803982, 0.00507922, 0.01313839, ..., 0.06245791, 0.0167978 ,\n",
       "        1.        ]])"
      ]
     },
     "execution_count": 15,
     "metadata": {},
     "output_type": "execute_result"
    }
   ],
   "source": [
    "duplicates"
   ]
  },
  {
   "cell_type": "markdown",
   "metadata": {},
   "source": [
    "Filter pairs with similarity >= 0.9"
   ]
  },
  {
   "cell_type": "code",
   "execution_count": 16,
   "metadata": {},
   "outputs": [],
   "source": [
    "dup_pairs = []\n",
    "\n",
    "for i in range(len(sample)):\n",
    "    for j in range(len(sample)):\n",
    "        if duplicates[i, j] >= 0.9 and i < j:\n",
    "            dup_pairs.append((i, j))"
   ]
  },
  {
   "cell_type": "code",
   "execution_count": 17,
   "metadata": {},
   "outputs": [
    {
     "data": {
      "text/plain": [
       "1169"
      ]
     },
     "execution_count": 17,
     "metadata": {},
     "output_type": "execute_result"
    }
   ],
   "source": [
    "len(dup_pairs)"
   ]
  },
  {
   "cell_type": "code",
   "execution_count": 18,
   "metadata": {},
   "outputs": [
    {
     "data": {
      "text/plain": [
       "[(3, 2605),\n",
       " (4, 621),\n",
       " (4, 1395),\n",
       " (4, 1952),\n",
       " (4, 2490),\n",
       " (10, 1433),\n",
       " (14, 2483),\n",
       " (16, 2388),\n",
       " (17, 1366),\n",
       " (17, 2794),\n",
       " (19, 1236),\n",
       " (30, 237),\n",
       " (30, 2413),\n",
       " (32, 1902),\n",
       " (33, 2261),\n",
       " (33, 2729),\n",
       " (36, 107),\n",
       " (36, 2182),\n",
       " (36, 2936),\n",
       " (45, 133)]"
      ]
     },
     "execution_count": 18,
     "metadata": {},
     "output_type": "execute_result"
    }
   ],
   "source": [
    "dup_pairs[:20]"
   ]
  },
  {
   "cell_type": "code",
   "execution_count": 19,
   "metadata": {},
   "outputs": [
    {
     "name": "stdout",
     "output_type": "stream",
     "text": [
      "title                Масово пушене в заведение Маки, град Сливен\n",
      "description    На 24.11.2017, 19:30 часа, от 20 маси на 6 се ...\n",
      "location                  град Сливен, бул. Цар Освободител 15 а\n",
      "Name: 3, dtype: object\n",
      "title                       Пушене в заведение Маки, град Сливен\n",
      "description    В заведението се пуши непрекъснато. * Сигналът...\n",
      "location                   град Сливен, ул. Цар Освободител 17 А\n",
      "Name: 2605, dtype: object\n",
      "\n",
      "title          Нарушаване на забраната за тютюнопушене в пица...\n",
      "description    В Пицария Ветрило се пуши необезпокоявано и съ...\n",
      "location                         град София, ул Орехова гора 42А\n",
      "Name: 4, dtype: object\n",
      "title          Пушене в ресторант-пицария Ветрило, град София...\n",
      "description    име обект:  Ветрило вид обект: ресторант пицар...\n",
      "location       град София, жк. Стрелбище, ул. Орехова гора № 42А\n",
      "Name: 621, dtype: object\n",
      "\n",
      "title          Нарушаване на забраната за тютюнопушене в пица...\n",
      "description    В Пицария Ветрило се пуши необезпокоявано и съ...\n",
      "location                         град София, ул Орехова гора 42А\n",
      "Name: 4, dtype: object\n",
      "title          пушене в Ресторант пицария Ветрило , София (мо...\n",
      "description    име обект: Ветрило вид обект: Ресторант пицари...\n",
      "location             София, Кв . Стрелбище, Ул. Орехова гора 42а\n",
      "Name: 1395, dtype: object\n",
      "\n",
      "title          Нарушаване на забраната за тютюнопушене в пица...\n",
      "description    В Пицария Ветрило се пуши необезпокоявано и съ...\n",
      "location                         град София, ул Орехова гора 42А\n",
      "Name: 4, dtype: object\n",
      "title          пушене в пицария ресторант \"Ветрило\", град Соф...\n",
      "description    име обект: Ветрило вид обект: пицария ресторан...\n",
      "location                       град София, Ул.  Орехова гора 42А\n",
      "Name: 1952, dtype: object\n",
      "\n",
      "title          Нарушаване на забраната за тютюнопушене в пица...\n",
      "description    В Пицария Ветрило се пуши необезпокоявано и съ...\n",
      "location                         град София, ул Орехова гора 42А\n",
      "Name: 4, dtype: object\n",
      "title                       Пушене в Пицария Ветрило, град София\n",
      "description    Пуши се на половината маси в основния салон, н...\n",
      "location       град София, жк Стрелбище, ул. \"Орехова гора\"  ...\n",
      "Name: 2490, dtype: object\n",
      "\n",
      "title                         Пушене в ресторант 789, град София\n",
      "description    Бяхме поканени на рожден ден във въпросния рес...\n",
      "location              град София, бул. Св. Климент Охридски № 47\n",
      "Name: 10, dtype: object\n",
      "title          Нарушение на забраната за тютюнопушевне в рест...\n",
      "description    Добър ден, Имах удоволствието на 6.02.2015 от ...\n",
      "location                град София, бул. \"Климент Охридски\" № 47\n",
      "Name: 1433, dtype: object\n",
      "\n",
      "title          Тютюнопушене в ресторант SASA Paradise Mall, г...\n",
      "description    В цялата закрита и остъклена градина се тютюно...\n",
      "location                     град София, бул. \"Черни връх\" № 100\n",
      "Name: 14, dtype: object\n",
      "title          Пушене в ресторант  SASA MALL PARADISE, град С...\n",
      "description    име обект: SASA MALL PARADISE вид обект: Ресто...\n",
      "location       град София, бул. Черни връх 100, Парадайз цент...\n",
      "Name: 2483, dtype: object\n",
      "\n",
      "title                     Пушач шофьор на автобус 88, град София\n",
      "description    Здравейте! Вече съм подала поне 10 сигнала за ...\n",
      "location                                              град София\n",
      "Name: 16, dtype: object\n",
      "title                           Шофьор на автобус 88, град София\n",
      "description    Шофьорът на автобус 88,посока Зоопарка,29.09.2...\n",
      "location                                 София, бул.Г.М.Димитров\n",
      "Name: 2388, dtype: object\n",
      "\n",
      "title                    Пушене в сладкарница Романс, град София\n",
      "description    Адресът на заведението е ул. Витошки езера 25,...\n",
      "location         град София, кв. Симеоново, ул. Витошки езера 25\n",
      "Name: 17, dtype: object\n",
      "title          Пушене в сладкарница  \"Романс\", град София (мо...\n",
      "description    име обект:  Романс вид обект: сладкарница град...\n",
      "location       град София, кв. Симеоново,  ул. „Витошки езера...\n",
      "Name: 1366, dtype: object\n",
      "\n",
      "title                    Пушене в сладкарница Романс, град София\n",
      "description    Адресът на заведението е ул. Витошки езера 25,...\n",
      "location         град София, кв. Симеоново, ул. Витошки езера 25\n",
      "Name: 17, dtype: object\n",
      "title          Пушене в сладкарница Романс, град София (мобил...\n",
      "description    име обект: Романс вид обект: Сладкарница град:...\n",
      "location       град София, кв. Симеоново, ул. „Витошки езера“ 25\n",
      "Name: 2794, dtype: object\n",
      "\n",
      "title           Тютюнопушене в ресторант CASA FELICE, град Варна\n",
      "description    В ресторанта се допуска от персонала клиентите...\n",
      "location                    град Варна, жк.Чайка , срещу блок 12\n",
      "Name: 19, dtype: object\n",
      "title             Тютюнопушене в пицария CASA FELICE, град Варна\n",
      "description    В събота (16.02.2018 г.), около 12:30 ч. посет...\n",
      "location                    град Варна, жк.Чайка , срещу блок 12\n",
      "Name: 1236, dtype: object\n",
      "\n",
      "title                 Пушене в Playground Mall Varna, град Варна\n",
      "description    Здравейте, в заведението на детския увеселител...\n",
      "location              град Варна, бул. „Владислав Варненчик“ 186\n",
      "Name: 30, dtype: object\n",
      "title          Пушене в заведение Playground mall Varna, град...\n",
      "description    В мол Варна, заведение Playground се пуши през...\n",
      "location                град Варна, бул. Владислав Варненчик 186\n",
      "Name: 237, dtype: object\n",
      "\n",
      "title                 Пушене в Playground Mall Varna, град Варна\n",
      "description    Здравейте, в заведението на детския увеселител...\n",
      "location              град Варна, бул. „Владислав Варненчик“ 186\n",
      "Name: 30, dtype: object\n",
      "title          Сигнал за тютюнопушене на закрито в Playground...\n",
      "description    Днес, при посещение в Playground Mall Varna, з...\n",
      "location        град Варна, бул. Владислав Варненчик 186, ниво 4\n",
      "Name: 2413, dtype: object\n",
      "\n",
      "title          Пушене в  Bar de rouge, град София  (мобилен с...\n",
      "description    име обект: Bar de rouge вид обект:  Бар град: ...\n",
      "location                            град София, ул. \"Шипка\"  № 6\n",
      "Name: 32, dtype: object\n",
      "title                  Пушене в  \"Bar De Rouge\", град София  (м)\n",
      "description    име обект: Bar De Rouge вид обект: Бар/Рестора...\n",
      "location                                 град София, ул. Шипка 6\n",
      "Name: 1902, dtype: object\n",
      "\n",
      "title          Неспазване на забраната за тютюнопушене в Кафа...\n",
      "description    В заведение Кафана Стефанович(сръбски ресторан...\n",
      "location                            град София, ул. Златовръх №2\n",
      "Name: 33, dtype: object\n",
      "title          Нарушаване на забраната за тютюнопушене, град ...\n",
      "description    В ресторант Кафана Стефанович не се спазва заб...\n",
      "location                             град София, ул. Златовръх 2\n",
      "Name: 2261, dtype: object\n",
      "\n",
      "title          Неспазване на забраната за тютюнопушене в Кафа...\n",
      "description    В заведение Кафана Стефанович(сръбски ресторан...\n",
      "location                            град София, ул. Златовръх №2\n",
      "Name: 33, dtype: object\n",
      "title                     Пушене в Кафана Стефанович, град София\n",
      "description    В Кафана Стефанович се нарушава Наредбата и за...\n",
      "location                             град София, ул. Златовръх 2\n",
      "Name: 2729, dtype: object\n",
      "\n",
      "title                      Пушене в механа \"Одаята\",  град Варна\n",
      "description    На 26.11.2017 посетихме механа „Одаята” (Адрес...\n",
      "location            град Варна, бул. „8-ми Приморски полк“ № 128\n",
      "Name: 36, dtype: object\n",
      "title               Пушене на цигари в механа Одаята, град Варна\n",
      "description    Пушене на цигари!!!!!!!!!!!!!!!!!!! * Сигналът...\n",
      "location       град Варна, бул. „8-ми Приморски полк“ 128, до...\n",
      "Name: 107, dtype: object\n",
      "\n",
      "title                      Пушене в механа \"Одаята\",  град Варна\n",
      "description    На 26.11.2017 посетихме механа „Одаята” (Адрес...\n",
      "location            град Варна, бул. „8-ми Приморски полк“ № 128\n",
      "Name: 36, dtype: object\n",
      "title          пушене в механа \"Одаята\", град Варна (мобилен ...\n",
      "description    име обект: Одаята вид обект: Механа град: Варн...\n",
      "location        град Варна, Бул. 8-ми приморски полк 128, до НАП\n",
      "Name: 2182, dtype: object\n",
      "\n",
      "title                      Пушене в механа \"Одаята\",  град Варна\n",
      "description    На 26.11.2017 посетихме механа „Одаята” (Адрес...\n",
      "location            град Варна, бул. „8-ми Приморски полк“ № 128\n",
      "Name: 36, dtype: object\n",
      "title                        Пушене в механа Одаята, град Варна,\n",
      "description    Пушене по масите в заведението механа Одаята н...\n",
      "location                  град Варна,бул.8-ми Приморски полк 128\n",
      "Name: 2936, dtype: object\n",
      "\n",
      "title          Пушене в ресторант Кафана Стефанович, град Соф...\n",
      "description    име обект: Кафана Стефанович вид обект: Рестор...\n",
      "location                           град София, ул. Златовръх № 4\n",
      "Name: 45, dtype: object\n",
      "title           Пушене в ресторант Кафана Стефанович, град София\n",
      "description    Снощи бях в ресторант Кафана Стефанович, намир...\n",
      "location                        град София,  ул. \"Златовръх\" № 4\n",
      "Name: 133, dtype: object\n",
      "\n"
     ]
    }
   ],
   "source": [
    "for doc1, doc2 in dup_pairs[:20]:\n",
    "    print(sample.iloc[doc1][['title', 'description', 'location']])\n",
    "    print(sample.iloc[doc2][['title', 'description', 'location']])\n",
    "    print()"
   ]
  },
  {
   "cell_type": "markdown",
   "metadata": {},
   "source": [
    "Look for similar documnet for a given document in the corpus"
   ]
  },
  {
   "cell_type": "code",
   "execution_count": 20,
   "metadata": {},
   "outputs": [],
   "source": [
    "def query_group(df_ix):\n",
    "    group = cosine_similarity(train_corpus[df_ix], train_corpus)[0]\n",
    "    \n",
    "    dup_tuples = []\n",
    "    dub_ids = []\n",
    "\n",
    "    for j in range(3000):\n",
    "        if group[j] >= 0.9:\n",
    "            dup_tuples.append(j)\n",
    "            \n",
    "    for ix in dup_tuples:\n",
    "        dub_ids.append(sample.iloc[ix]['id'])\n",
    "            \n",
    "    return dub_ids"
   ]
  },
  {
   "cell_type": "code",
   "execution_count": 21,
   "metadata": {},
   "outputs": [
    {
     "data": {
      "text/plain": [
       "[9085, 7736, 8076, 7040]"
      ]
     },
     "execution_count": 21,
     "metadata": {},
     "output_type": "execute_result"
    }
   ],
   "source": [
    "similar_ids = query_group(2121)\n",
    "similar_ids"
   ]
  },
  {
   "cell_type": "code",
   "execution_count": 22,
   "metadata": {},
   "outputs": [
    {
     "data": {
      "text/html": [
       "<div>\n",
       "<style scoped>\n",
       "    .dataframe tbody tr th:only-of-type {\n",
       "        vertical-align: middle;\n",
       "    }\n",
       "\n",
       "    .dataframe tbody tr th {\n",
       "        vertical-align: top;\n",
       "    }\n",
       "\n",
       "    .dataframe thead th {\n",
       "        text-align: right;\n",
       "    }\n",
       "</style>\n",
       "<table border=\"1\" class=\"dataframe\">\n",
       "  <thead>\n",
       "    <tr style=\"text-align: right;\">\n",
       "      <th></th>\n",
       "      <th>title</th>\n",
       "      <th>description</th>\n",
       "      <th>location</th>\n",
       "    </tr>\n",
       "  </thead>\n",
       "  <tbody>\n",
       "    <tr>\n",
       "      <th>271</th>\n",
       "      <td>Пушене в ресторант Ветрило, град София (мобиле...</td>\n",
       "      <td>име обект: Ветрило вид обект: ресторант град: ...</td>\n",
       "      <td>град София, ж.к. Стрелбище, ул. Орехова гора №...</td>\n",
       "    </tr>\n",
       "    <tr>\n",
       "      <th>1308</th>\n",
       "      <td>Нарушаване на забраната за пушене в ресторант ...</td>\n",
       "      <td>На 27/01/2015 в 12.30ч. на обяд се пушеше своб...</td>\n",
       "      <td>град София, ул.Орехова гора 42А</td>\n",
       "    </tr>\n",
       "    <tr>\n",
       "      <th>1675</th>\n",
       "      <td>Сигнал за цигарен дим в ресторант \"Ветрило\", ж...</td>\n",
       "      <td>Здравейте, Искам да подам сигнал за ежедневно ...</td>\n",
       "      <td>София, ул. Орехова гора 42А</td>\n",
       "    </tr>\n",
       "    <tr>\n",
       "      <th>2121</th>\n",
       "      <td>Систематично пушене на затворено в ресторант \"...</td>\n",
       "      <td>В ресторант Ветрило в София, Стрелбище, ул. Ор...</td>\n",
       "      <td>София, ул.Орехова Гора 42А</td>\n",
       "    </tr>\n",
       "  </tbody>\n",
       "</table>\n",
       "</div>"
      ],
      "text/plain": [
       "                                                  title  \\\n",
       "271   Пушене в ресторант Ветрило, град София (мобиле...   \n",
       "1308  Нарушаване на забраната за пушене в ресторант ...   \n",
       "1675  Сигнал за цигарен дим в ресторант \"Ветрило\", ж...   \n",
       "2121  Систематично пушене на затворено в ресторант \"...   \n",
       "\n",
       "                                            description  \\\n",
       "271   име обект: Ветрило вид обект: ресторант град: ...   \n",
       "1308  На 27/01/2015 в 12.30ч. на обяд се пушеше своб...   \n",
       "1675  Здравейте, Искам да подам сигнал за ежедневно ...   \n",
       "2121  В ресторант Ветрило в София, Стрелбище, ул. Ор...   \n",
       "\n",
       "                                               location  \n",
       "271   град София, ж.к. Стрелбище, ул. Орехова гора №...  \n",
       "1308                    град София, ул.Орехова гора 42А  \n",
       "1675                        София, ул. Орехова гора 42А  \n",
       "2121                         София, ул.Орехова Гора 42А  "
      ]
     },
     "execution_count": 22,
     "metadata": {},
     "output_type": "execute_result"
    }
   ],
   "source": [
    "sample[sample.id.isin(similar_ids)][['title', 'description', 'location']]"
   ]
  },
  {
   "cell_type": "code",
   "execution_count": 23,
   "metadata": {},
   "outputs": [],
   "source": [
    "similar_ids_2 = query_group(213)"
   ]
  },
  {
   "cell_type": "code",
   "execution_count": 24,
   "metadata": {},
   "outputs": [
    {
     "data": {
      "text/html": [
       "<div>\n",
       "<style scoped>\n",
       "    .dataframe tbody tr th:only-of-type {\n",
       "        vertical-align: middle;\n",
       "    }\n",
       "\n",
       "    .dataframe tbody tr th {\n",
       "        vertical-align: top;\n",
       "    }\n",
       "\n",
       "    .dataframe thead th {\n",
       "        text-align: right;\n",
       "    }\n",
       "</style>\n",
       "<table border=\"1\" class=\"dataframe\">\n",
       "  <thead>\n",
       "    <tr style=\"text-align: right;\">\n",
       "      <th></th>\n",
       "      <th>title</th>\n",
       "      <th>description</th>\n",
       "      <th>location</th>\n",
       "    </tr>\n",
       "  </thead>\n",
       "  <tbody>\n",
       "    <tr>\n",
       "      <th>213</th>\n",
       "      <td>Неспазване на забраната за тютюнопушене н пица...</td>\n",
       "      <td>В ресторанта се пуши непрекъснато. * Сигналът ...</td>\n",
       "      <td>град София, ул. Солун 43</td>\n",
       "    </tr>\n",
       "    <tr>\n",
       "      <th>679</th>\n",
       "      <td>Масово тютюнопушене в пицария \"Ветрило\", грд С...</td>\n",
       "      <td>В пицария \"Ветрило\" на ул. \"Солун\" в ж.к. \"Бор...</td>\n",
       "      <td>град София, ул. \"Солун\", срещу бл. 43</td>\n",
       "    </tr>\n",
       "    <tr>\n",
       "      <th>2077</th>\n",
       "      <td>Пушене в пицария \"Ветрило\", град София</td>\n",
       "      <td>Безкрайно съм възмутен от ситуацията, в която ...</td>\n",
       "      <td>град София, ул. Солун, с/у блок 43</td>\n",
       "    </tr>\n",
       "  </tbody>\n",
       "</table>\n",
       "</div>"
      ],
      "text/plain": [
       "                                                  title  \\\n",
       "213   Неспазване на забраната за тютюнопушене н пица...   \n",
       "679   Масово тютюнопушене в пицария \"Ветрило\", грд С...   \n",
       "2077             Пушене в пицария \"Ветрило\", град София   \n",
       "\n",
       "                                            description  \\\n",
       "213   В ресторанта се пуши непрекъснато. * Сигналът ...   \n",
       "679   В пицария \"Ветрило\" на ул. \"Солун\" в ж.к. \"Бор...   \n",
       "2077  Безкрайно съм възмутен от ситуацията, в която ...   \n",
       "\n",
       "                                   location  \n",
       "213                град София, ул. Солун 43  \n",
       "679   град София, ул. \"Солун\", срещу бл. 43  \n",
       "2077     град София, ул. Солун, с/у блок 43  "
      ]
     },
     "execution_count": 24,
     "metadata": {},
     "output_type": "execute_result"
    }
   ],
   "source": [
    "sample[sample.id.isin(similar_ids_2)][['title', 'description', 'location']]"
   ]
  },
  {
   "cell_type": "markdown",
   "metadata": {},
   "source": [
    "### Soft duplicates"
   ]
  },
  {
   "cell_type": "code",
   "execution_count": 25,
   "metadata": {},
   "outputs": [],
   "source": [
    "def has_more(tuples, ix):\n",
    "    return any(filter(lambda x: x[0] == ix or x[1] == ix, tuples))"
   ]
  },
  {
   "cell_type": "code",
   "execution_count": 26,
   "metadata": {},
   "outputs": [
    {
     "data": {
      "text/plain": [
       "True"
      ]
     },
     "execution_count": 26,
     "metadata": {},
     "output_type": "execute_result"
    }
   ],
   "source": [
    "has_more(dup_pairs, 70)"
   ]
  },
  {
   "cell_type": "code",
   "execution_count": 27,
   "metadata": {},
   "outputs": [],
   "source": [
    "def find_first(tuples, ix):\n",
    "    return next((x[0] for x in tuples if x[1] == ix), None)"
   ]
  },
  {
   "cell_type": "code",
   "execution_count": 28,
   "metadata": {},
   "outputs": [],
   "source": [
    "# find_first(dup_pairs, 2490)"
   ]
  },
  {
   "cell_type": "code",
   "execution_count": 29,
   "metadata": {},
   "outputs": [],
   "source": [
    "def get_all_dubs(tuples, ix, group):\n",
    "    if not has_more(tuples, ix):\n",
    "        group.append(ix)\n",
    "        return\n",
    "    else:\n",
    "        for i, (ix1, ix2) in enumerate(tuples):\n",
    "            if ix1 == ix:\n",
    "                del tuples[i]\n",
    "                group.append(ix1)\n",
    "                get_all_dubs(tuples, ix1, group)\n",
    "                get_all_dubs(tuples, ix2, group)\n",
    "            elif ix2 == ix:\n",
    "                del tuples[i]\n",
    "                group.append(ix2)\n",
    "                get_all_dubs(tuples, ix1, group)\n",
    "                get_all_dubs(tuples, ix2, group)\n",
    "                \n",
    "    return set(group)"
   ]
  },
  {
   "cell_type": "code",
   "execution_count": 30,
   "metadata": {},
   "outputs": [],
   "source": [
    "from copy import deepcopy"
   ]
  },
  {
   "cell_type": "code",
   "execution_count": null,
   "metadata": {},
   "outputs": [],
   "source": []
  },
  {
   "cell_type": "code",
   "execution_count": 31,
   "metadata": {},
   "outputs": [],
   "source": [
    "def find_number_of_duplicates(tuples, ix):\n",
    "    tuples_copy = deepcopy(tuples)\n",
    "    return get_all_dubs(tuples_copy, ix, []) "
   ]
  },
  {
   "cell_type": "code",
   "execution_count": 32,
   "metadata": {},
   "outputs": [
    {
     "data": {
      "text/plain": [
       "{213, 679, 2077}"
      ]
     },
     "execution_count": 32,
     "metadata": {},
     "output_type": "execute_result"
    }
   ],
   "source": [
    "# no pair (4, 271) exists but there is pair (271, 621) - soft duplicates\n",
    "# no pairs (679, x) or (2077, x) - but there are pairs (213, 629) and (213, 2077)\n",
    "\n",
    "gr = find_number_of_duplicates(dup_pairs, 679)  \n",
    "gr"
   ]
  },
  {
   "cell_type": "code",
   "execution_count": 33,
   "metadata": {},
   "outputs": [
    {
     "data": {
      "text/html": [
       "<div>\n",
       "<style scoped>\n",
       "    .dataframe tbody tr th:only-of-type {\n",
       "        vertical-align: middle;\n",
       "    }\n",
       "\n",
       "    .dataframe tbody tr th {\n",
       "        vertical-align: top;\n",
       "    }\n",
       "\n",
       "    .dataframe thead th {\n",
       "        text-align: right;\n",
       "    }\n",
       "</style>\n",
       "<table border=\"1\" class=\"dataframe\">\n",
       "  <thead>\n",
       "    <tr style=\"text-align: right;\">\n",
       "      <th></th>\n",
       "      <th>title</th>\n",
       "      <th>location</th>\n",
       "    </tr>\n",
       "  </thead>\n",
       "  <tbody>\n",
       "    <tr>\n",
       "      <th>2077</th>\n",
       "      <td>Пушене в пицария \"Ветрило\", град София</td>\n",
       "      <td>град София, ул. Солун, с/у блок 43</td>\n",
       "    </tr>\n",
       "    <tr>\n",
       "      <th>213</th>\n",
       "      <td>Неспазване на забраната за тютюнопушене н пица...</td>\n",
       "      <td>град София, ул. Солун 43</td>\n",
       "    </tr>\n",
       "    <tr>\n",
       "      <th>679</th>\n",
       "      <td>Масово тютюнопушене в пицария \"Ветрило\", грд С...</td>\n",
       "      <td>град София, ул. \"Солун\", срещу бл. 43</td>\n",
       "    </tr>\n",
       "  </tbody>\n",
       "</table>\n",
       "</div>"
      ],
      "text/plain": [
       "                                                  title  \\\n",
       "2077             Пушене в пицария \"Ветрило\", град София   \n",
       "213   Неспазване на забраната за тютюнопушене н пица...   \n",
       "679   Масово тютюнопушене в пицария \"Ветрило\", грд С...   \n",
       "\n",
       "                                   location  \n",
       "2077     град София, ул. Солун, с/у блок 43  \n",
       "213                град София, ул. Солун 43  \n",
       "679   град София, ул. \"Солун\", срещу бл. 43  "
      ]
     },
     "execution_count": 33,
     "metadata": {},
     "output_type": "execute_result"
    }
   ],
   "source": [
    "sample.iloc[list(gr)][['title', 'location']]"
   ]
  },
  {
   "cell_type": "code",
   "execution_count": 34,
   "metadata": {},
   "outputs": [
    {
     "data": {
      "text/plain": [
       "{4, 271, 621, 1308, 1395, 1675, 1952, 2121, 2490}"
      ]
     },
     "execution_count": 34,
     "metadata": {},
     "output_type": "execute_result"
    }
   ],
   "source": [
    "gr = find_number_of_duplicates(dup_pairs, 1675)  \n",
    "gr"
   ]
  },
  {
   "cell_type": "code",
   "execution_count": 35,
   "metadata": {},
   "outputs": [
    {
     "data": {
      "text/html": [
       "<div>\n",
       "<style scoped>\n",
       "    .dataframe tbody tr th:only-of-type {\n",
       "        vertical-align: middle;\n",
       "    }\n",
       "\n",
       "    .dataframe tbody tr th {\n",
       "        vertical-align: top;\n",
       "    }\n",
       "\n",
       "    .dataframe thead th {\n",
       "        text-align: right;\n",
       "    }\n",
       "</style>\n",
       "<table border=\"1\" class=\"dataframe\">\n",
       "  <thead>\n",
       "    <tr style=\"text-align: right;\">\n",
       "      <th></th>\n",
       "      <th>title</th>\n",
       "      <th>location</th>\n",
       "    </tr>\n",
       "  </thead>\n",
       "  <tbody>\n",
       "    <tr>\n",
       "      <th>1952</th>\n",
       "      <td>пушене в пицария ресторант \"Ветрило\", град Соф...</td>\n",
       "      <td>град София, Ул.  Орехова гора 42А</td>\n",
       "    </tr>\n",
       "    <tr>\n",
       "      <th>4</th>\n",
       "      <td>Нарушаване на забраната за тютюнопушене в пица...</td>\n",
       "      <td>град София, ул Орехова гора 42А</td>\n",
       "    </tr>\n",
       "    <tr>\n",
       "      <th>2121</th>\n",
       "      <td>Систематично пушене на затворено в ресторант \"...</td>\n",
       "      <td>София, ул.Орехова Гора 42А</td>\n",
       "    </tr>\n",
       "    <tr>\n",
       "      <th>1675</th>\n",
       "      <td>Сигнал за цигарен дим в ресторант \"Ветрило\", ж...</td>\n",
       "      <td>София, ул. Орехова гора 42А</td>\n",
       "    </tr>\n",
       "    <tr>\n",
       "      <th>621</th>\n",
       "      <td>Пушене в ресторант-пицария Ветрило, град София...</td>\n",
       "      <td>град София, жк. Стрелбище, ул. Орехова гора № 42А</td>\n",
       "    </tr>\n",
       "    <tr>\n",
       "      <th>271</th>\n",
       "      <td>Пушене в ресторант Ветрило, град София (мобиле...</td>\n",
       "      <td>град София, ж.к. Стрелбище, ул. Орехова гора №...</td>\n",
       "    </tr>\n",
       "    <tr>\n",
       "      <th>1395</th>\n",
       "      <td>пушене в Ресторант пицария Ветрило , София (мо...</td>\n",
       "      <td>София, Кв . Стрелбище, Ул. Орехова гора 42а</td>\n",
       "    </tr>\n",
       "    <tr>\n",
       "      <th>2490</th>\n",
       "      <td>Пушене в Пицария Ветрило, град София</td>\n",
       "      <td>град София, жк Стрелбище, ул. \"Орехова гора\"  ...</td>\n",
       "    </tr>\n",
       "    <tr>\n",
       "      <th>1308</th>\n",
       "      <td>Нарушаване на забраната за пушене в ресторант ...</td>\n",
       "      <td>град София, ул.Орехова гора 42А</td>\n",
       "    </tr>\n",
       "  </tbody>\n",
       "</table>\n",
       "</div>"
      ],
      "text/plain": [
       "                                                  title  \\\n",
       "1952  пушене в пицария ресторант \"Ветрило\", град Соф...   \n",
       "4     Нарушаване на забраната за тютюнопушене в пица...   \n",
       "2121  Систематично пушене на затворено в ресторант \"...   \n",
       "1675  Сигнал за цигарен дим в ресторант \"Ветрило\", ж...   \n",
       "621   Пушене в ресторант-пицария Ветрило, град София...   \n",
       "271   Пушене в ресторант Ветрило, град София (мобиле...   \n",
       "1395  пушене в Ресторант пицария Ветрило , София (мо...   \n",
       "2490               Пушене в Пицария Ветрило, град София   \n",
       "1308  Нарушаване на забраната за пушене в ресторант ...   \n",
       "\n",
       "                                               location  \n",
       "1952                  град София, Ул.  Орехова гора 42А  \n",
       "4                       град София, ул Орехова гора 42А  \n",
       "2121                         София, ул.Орехова Гора 42А  \n",
       "1675                        София, ул. Орехова гора 42А  \n",
       "621   град София, жк. Стрелбище, ул. Орехова гора № 42А  \n",
       "271   град София, ж.к. Стрелбище, ул. Орехова гора №...  \n",
       "1395        София, Кв . Стрелбище, Ул. Орехова гора 42а  \n",
       "2490  град София, жк Стрелбище, ул. \"Орехова гора\"  ...  \n",
       "1308                    град София, ул.Орехова гора 42А  "
      ]
     },
     "execution_count": 35,
     "metadata": {},
     "output_type": "execute_result"
    }
   ],
   "source": [
    "sample.iloc[list(gr)][['title', 'location']]"
   ]
  }
 ],
 "metadata": {
  "kernelspec": {
   "display_name": "Python 3",
   "language": "python",
   "name": "python3"
  },
  "language_info": {
   "codemirror_mode": {
    "name": "ipython",
    "version": 3
   },
   "file_extension": ".py",
   "mimetype": "text/x-python",
   "name": "python",
   "nbconvert_exporter": "python",
   "pygments_lexer": "ipython3",
   "version": "3.7.1"
  }
 },
 "nbformat": 4,
 "nbformat_minor": 2
}
